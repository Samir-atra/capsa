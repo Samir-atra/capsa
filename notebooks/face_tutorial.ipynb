{
 "cells": [
  {
   "cell_type": "markdown",
   "metadata": {},
   "source": [
    "In this demo, we'll be demonstrating how capsa, the model-agnostic risk awareness framework that we've developed at Themis AI, can automatically detect bias in datasets of faces. Here, the dataset we've chosen here is the Celeb-A dataset, which containts over 200K celebrity images. We create a face classification task by choosing random samples from ImageNet as negatives."
   ]
  },
  {
   "cell_type": "markdown",
   "metadata": {},
   "source": [
    "First, we import the necessary dependencies, set some important hyperparameters, and load the data"
   ]
  },
  {
   "cell_type": "code",
   "execution_count": 1,
   "metadata": {},
   "outputs": [],
   "source": [
    "import cv2\n",
    "import os\n",
    "import matplotlib.pyplot as plt\n",
    "import numpy as np\n",
    "import tensorflow as tf\n",
    "import time\n",
    "import h5py\n",
    "import sys\n",
    "import glob\n",
    "import functools\n",
    "from train_dataloader import TrainingDatasetLoader\n",
    "from tqdm import tqdm\n",
    "import functools"
   ]
  },
  {
   "cell_type": "code",
   "execution_count": 11,
   "metadata": {},
   "outputs": [
    {
     "name": "stdout",
     "output_type": "stream",
     "text": [
      "[PhysicalDevice(name='/physical_device:GPU:0', device_type='GPU')]\n"
     ]
    }
   ],
   "source": [
    "print(tf.config.list_physical_devices('GPU'))\n"
   ]
  },
  {
   "cell_type": "code",
   "execution_count": 2,
   "metadata": {},
   "outputs": [],
   "source": [
    "latent_dim = 100\n",
    "batch_size = 32"
   ]
  },
  {
   "cell_type": "code",
   "execution_count": 3,
   "metadata": {},
   "outputs": [
    {
     "name": "stdout",
     "output_type": "stream",
     "text": [
      "Opening /home/sadhanalolla/.keras/datasets/train_face.h5\n",
      "Loading data into memory...\n"
     ]
    }
   ],
   "source": [
    "data_path = tf.keras.utils.get_file(\n",
    "    \"train_face.h5\", \"https://www.dropbox.com/s/hlz8atheyozp1yx/train_face.h5?dl=1\"\n",
    ")\n",
    "dataloader = TrainingDatasetLoader(data_path, batch_size=batch_size)\n",
    "sample_batch_imgs, _ = dataloader.return_sample_batch()\n"
   ]
  },
  {
   "cell_type": "code",
   "execution_count": 4,
   "metadata": {},
   "outputs": [
    {
     "data": {
      "text/plain": [
       "<matplotlib.image.AxesImage at 0x7f714b46bee0>"
      ]
     },
     "execution_count": 4,
     "metadata": {},
     "output_type": "execute_result"
    },
    {
     "data": {
      "image/png": "[encoded data removed]",
      "text/plain": [
       "<Figure size 432x288 with 1 Axes>"
      ]
     },
     "metadata": {
      "needs_background": "light"
     },
     "output_type": "display_data"
    }
   ],
   "source": [
    "plt.imshow(sample_batch_imgs[30])"
   ]
  },
  {
   "cell_type": "markdown",
   "metadata": {},
   "source": [
    "We create a standard CNN to classify the images as faces or negatives"
   ]
  },
  {
   "cell_type": "code",
   "execution_count": 5,
   "metadata": {},
   "outputs": [
    {
     "name": "stderr",
     "output_type": "stream",
     "text": [
      "2022-08-29 16:57:15.204709: I tensorflow/stream_executor/cuda/cuda_gpu_executor.cc:975] successful NUMA node read from SysFS had negative value (-1), but there must be at least one NUMA node, so returning NUMA node zero\n",
      "2022-08-29 16:57:15.209012: I tensorflow/stream_executor/cuda/cuda_gpu_executor.cc:975] successful NUMA node read from SysFS had negative value (-1), but there must be at least one NUMA node, so returning NUMA node zero\n",
      "2022-08-29 16:57:15.209641: I tensorflow/stream_executor/cuda/cuda_gpu_executor.cc:975] successful NUMA node read from SysFS had negative value (-1), but there must be at least one NUMA node, so returning NUMA node zero\n",
      "2022-08-29 16:57:15.210992: I tensorflow/core/platform/cpu_feature_guard.cc:193] This TensorFlow binary is optimized with oneAPI Deep Neural Network Library (oneDNN) to use the following CPU instructions in performance-critical operations:  AVX2 FMA\n",
      "To enable them in other operations, rebuild TensorFlow with the appropriate compiler flags.\n",
      "2022-08-29 16:57:15.217880: I tensorflow/stream_executor/cuda/cuda_gpu_executor.cc:975] successful NUMA node read from SysFS had negative value (-1), but there must be at least one NUMA node, so returning NUMA node zero\n",
      "2022-08-29 16:57:15.218802: I tensorflow/stream_executor/cuda/cuda_gpu_executor.cc:975] successful NUMA node read from SysFS had negative value (-1), but there must be at least one NUMA node, so returning NUMA node zero\n",
      "2022-08-29 16:57:15.219684: I tensorflow/stream_executor/cuda/cuda_gpu_executor.cc:975] successful NUMA node read from SysFS had negative value (-1), but there must be at least one NUMA node, so returning NUMA node zero\n",
      "2022-08-29 16:57:16.066308: I tensorflow/stream_executor/cuda/cuda_gpu_executor.cc:975] successful NUMA node read from SysFS had negative value (-1), but there must be at least one NUMA node, so returning NUMA node zero\n",
      "2022-08-29 16:57:16.067169: I tensorflow/stream_executor/cuda/cuda_gpu_executor.cc:975] successful NUMA node read from SysFS had negative value (-1), but there must be at least one NUMA node, so returning NUMA node zero\n",
      "2022-08-29 16:57:16.067751: I tensorflow/stream_executor/cuda/cuda_gpu_executor.cc:975] successful NUMA node read from SysFS had negative value (-1), but there must be at least one NUMA node, so returning NUMA node zero\n",
      "2022-08-29 16:57:16.068338: I tensorflow/core/common_runtime/gpu/gpu_device.cc:1532] Created device /job:localhost/replica:0/task:0/device:GPU:0 with 4137 MB memory:  -> device: 0, name: NVIDIA RTX A5000, pci bus id: 0000:61:00.0, compute capability: 8.6\n"
     ]
    }
   ],
   "source": [
    "\"\"\"Function to define a standard CNN model\"\"\"\n",
    "\n",
    "def make_standard_classifier(n_outputs=1, n_filters=12):\n",
    "  Conv2D = functools.partial(tf.keras.layers.Conv2D, padding='same', activation='relu')\n",
    "  BatchNormalization = tf.keras.layers.BatchNormalization\n",
    "  Flatten = tf.keras.layers.Flatten\n",
    "  Dense = functools.partial(tf.keras.layers.Dense, activation='relu')\n",
    "\n",
    "  model = tf.keras.Sequential([\n",
    "    Conv2D(filters=1*n_filters, kernel_size=5,  strides=2),\n",
    "    BatchNormalization(),\n",
    "    \n",
    "    Conv2D(filters=2*n_filters, kernel_size=5,  strides=2),\n",
    "    BatchNormalization(),\n",
    "\n",
    "    Conv2D(filters=4*n_filters, kernel_size=3,  strides=2),\n",
    "    BatchNormalization(),\n",
    "\n",
    "    Conv2D(filters=6*n_filters, kernel_size=3,  strides=2),\n",
    "    BatchNormalization(),\n",
    "\n",
    "    Flatten(),\n",
    "    Dense(512),\n",
    "    Dense(n_outputs, activation=None),\n",
    "  ])\n",
    "  model.build((None, 64, 64, 3))\n",
    "  return model\n",
    "\n",
    "standard_classifier = make_standard_classifier()"
   ]
  },
  {
   "cell_type": "code",
   "execution_count": 6,
   "metadata": {},
   "outputs": [],
   "source": [
    "from capsa import wrap, VAEWrapper, HistogramCallback"
   ]
  },
  {
   "cell_type": "markdown",
   "metadata": {},
   "source": [
    "Now, we wrap the standard classifier. In this example, we choose the VAE, or variational autoencoder, and analyze the biases in the dataset. The VAE can also be used to quantify epistemic uncertainty, but we choose to focus on bias here. With this one line, we've now created a risk-aware model!"
   ]
  },
  {
   "cell_type": "code",
   "execution_count": 7,
   "metadata": {},
   "outputs": [],
   "source": [
    "wrapped_classifier = VAEWrapper(\n",
    "    standard_classifier,\n",
    "    latent_dim=latent_dim,\n",
    "    epistemic=False,\n",
    ")"
   ]
  },
  {
   "cell_type": "code",
   "execution_count": 8,
   "metadata": {},
   "outputs": [
    {
     "ename": "TypeError",
     "evalue": "wrap() missing 1 required positional argument: 'model'",
     "output_type": "error",
     "traceback": [
      "\u001b[0;31m---------------------------------------------------------------------------\u001b[0m",
      "\u001b[0;31mTypeError\u001b[0m                                 Traceback (most recent call last)",
      "Input \u001b[0;32mIn [8]\u001b[0m, in \u001b[0;36m<cell line: 1>\u001b[0;34m()\u001b[0m\n\u001b[0;32m----> 1\u001b[0m wrapped_classifier \u001b[38;5;241m=\u001b[39m \u001b[43mwrap\u001b[49m\u001b[43m(\u001b[49m\u001b[43m)\u001b[49m\n",
      "\u001b[0;31mTypeError\u001b[0m: wrap() missing 1 required positional argument: 'model'"
     ]
    }
   ],
   "source": [
    "wrapped_classifier = wrap()"
   ]
  },
  {
   "cell_type": "markdown",
   "metadata": {},
   "source": [
    "We choose hyperparameters, load our training data, and compile the model just as we would a normal Keras model."
   ]
  },
  {
   "cell_type": "code",
   "execution_count": 9,
   "metadata": {},
   "outputs": [],
   "source": [
    "# Training hyperparameters\n",
    "num_epochs = 6  # keep small to run faster\n",
    "learning_rate = 1e-5\n",
    "\n",
    "wrapped_classifier.compile(\n",
    "    optimizer=tf.keras.optimizers.Adam(learning_rate),\n",
    "    loss=tf.keras.losses.BinaryCrossentropy(from_logits=True),\n",
    "    metrics=[tf.keras.metrics.BinaryAccuracy()],\n",
    ")"
   ]
  },
  {
   "cell_type": "markdown",
   "metadata": {},
   "source": [
    "Lastly, we fit the model. We can use any of the capabilities of a normal Keras model with the wrapped model, and fit is no exception."
   ]
  },
  {
   "cell_type": "code",
   "execution_count": null,
   "metadata": {},
   "outputs": [
    {
     "name": "stdout",
     "output_type": "stream",
     "text": [
      "Epoch 1/6\n",
      "1298/2404 [===============>..............] - ETA: 2:43 - loss: 0.1510 - binary_accuracy: 0.9467"
     ]
    }
   ],
   "source": [
    "history = wrapped_classifier.fit(\n",
    "    dataloader,\n",
    "    epochs=num_epochs,\n",
    "    batch_size=batch_size,\n",
    "    callbacks=[HistogramCallback()]\n",
    ")"
   ]
  },
  {
   "cell_type": "markdown",
   "metadata": {},
   "source": [
    "Now that our model is trained, we load the test dataset."
   ]
  },
  {
   "cell_type": "code",
   "execution_count": null,
   "metadata": {},
   "outputs": [],
   "source": [
    "test_dataloader = TrainingDatasetLoader(data_path, batch_size=32, training=False)\n",
    "selected_inds = test_dataloader.train_inds\n",
    "sorted_inds = np.sort(selected_inds)\n",
    "test_img = (test_dataloader.images[sorted_inds, :, :, ::-1] / 255.0).astype(np.float32)\n",
    "test_label = test_dataloader.labels[sorted_inds, ...]\n",
    "plt.imshow(test_img[0])"
   ]
  },
  {
   "cell_type": "markdown",
   "metadata": {},
   "source": [
    "We call the wrapped classifier on the test dataset and sort the dataset in order of increasing bias."
   ]
  },
  {
   "cell_type": "code",
   "execution_count": null,
   "metadata": {},
   "outputs": [],
   "source": [
    "test_outs = wrapped_classifier(test_img, softmax=True)\n",
    "test_biases = np.squeeze(test_outs[1])\n",
    "\n",
    "sorted_bias_inds = np.argsort(test_biases)\n",
    "sorted_biases = np.array(test_biases[sorted_bias_inds])\n",
    "sorted_images = np.array(test_img[sorted_bias_inds])"
   ]
  },
  {
   "cell_type": "code",
   "execution_count": null,
   "metadata": {},
   "outputs": [],
   "source": [
    "num_images = 20\n",
    "num_samples = len(test_img) // num_images"
   ]
  },
  {
   "cell_type": "markdown",
   "metadata": {},
   "source": [
    "Shown below are the 20 images with the lowest bias (i.e. the least represented in the dataset). We can see that varied facial position and obstructing items such as hats and sunglasses are underrepresented in this dataset"
   ]
  },
  {
   "cell_type": "code",
   "execution_count": null,
   "metadata": {},
   "outputs": [],
   "source": [
    "fig = plt.figure()\n",
    "fig.subplots_adjust(hspace=0.6)\n",
    "for img in range(num_images):\n",
    "    ax = fig.add_subplot(int(num_images/5), 5, img + 1)\n",
    "    ax.xaxis.set_visible(False)\n",
    "    ax.yaxis.set_visible(False)\n",
    "    img_to_show = sorted_images[img]\n",
    "    ax.imshow(img_to_show, interpolation=\"nearest\")\n",
    "plt.subplots_adjust(wspace=0.20,hspace=0.20)\n",
    "plt.show()\n",
    "plt.clf()"
   ]
  },
  {
   "cell_type": "markdown",
   "metadata": {},
   "source": [
    "Here we see the top 20 samples that the dataset is biased towards. These are overwhemingly light-skinned females with light hair, and almost all the people in these images are directly facing the camera"
   ]
  },
  {
   "cell_type": "code",
   "execution_count": null,
   "metadata": {},
   "outputs": [],
   "source": [
    "fig = plt.figure()\n",
    "fig.subplots_adjust(hspace=0.6)\n",
    "for img in range(-1 * num_images, 0):\n",
    "    ax = fig.add_subplot(int(num_images/5), 5, -1 * img)\n",
    "    ax.xaxis.set_visible(False)\n",
    "    ax.yaxis.set_visible(False)\n",
    "    img_to_show = sorted_images[img]\n",
    "    ax.imshow(img_to_show, interpolation=\"nearest\")\n",
    "plt.subplots_adjust(wspace=0.20,hspace=0.20)\n",
    "plt.show()\n"
   ]
  },
  {
   "cell_type": "markdown",
   "metadata": {},
   "source": [
    "Now, we plot the average face by percentile. The top left image shows the average face of the bottom 5th percentile in terms of bias, and we can see that the average skin tone and hair color is darker than the faces in the higher percentiles. "
   ]
  },
  {
   "cell_type": "code",
   "execution_count": null,
   "metadata": {},
   "outputs": [],
   "source": [
    "all_imgs = []\n",
    "all_bias = []\n",
    "for percentile in range(num_images):\n",
    "    cur_imgs = sorted_images[percentile * num_samples : (percentile + 1) * num_samples]\n",
    "    cur_bias = sorted_biases[percentile * num_samples : (percentile + 1) * num_samples]\n",
    "    avged_imgs = tf.reduce_mean(cur_imgs, axis=0)\n",
    "    all_imgs.append(avged_imgs)\n",
    "    all_bias.append(tf.reduce_mean(cur_bias))"
   ]
  },
  {
   "cell_type": "code",
   "execution_count": null,
   "metadata": {},
   "outputs": [],
   "source": [
    "fig = plt.figure()\n",
    "fig.subplots_adjust(hspace=0.6)\n",
    "for img in range(num_images):\n",
    "    ax = fig.add_subplot(int(num_images/5), 5, img + 1)\n",
    "    ax.xaxis.set_visible(False)\n",
    "    ax.yaxis.set_visible(False)\n",
    "    img_to_show = all_imgs[img]\n",
    "    ax.imshow(img_to_show, interpolation=\"nearest\")\n",
    "plt.subplots_adjust(wspace=0.20,hspace=0.20)\n",
    "plt.savefig(\"percentile.PNG\")"
   ]
  },
  {
   "cell_type": "markdown",
   "metadata": {},
   "source": [
    "By including a single line in our normal training workflow, we've found significant bias in our dataset!"
   ]
  }
 ],
 "metadata": {
  "kernelspec": {
   "display_name": "Python 3 (ipykernel)",
   "language": "python",
   "name": "python3"
  },
  "language_info": {
   "codemirror_mode": {
    "name": "ipython",
    "version": 3
   },
   "file_extension": ".py",
   "mimetype": "text/x-python",
   "name": "python",
   "nbconvert_exporter": "python",
   "pygments_lexer": "ipython3",
   "version": "3.9.12"
  }
 },
 "nbformat": 4,
 "nbformat_minor": 2
}
