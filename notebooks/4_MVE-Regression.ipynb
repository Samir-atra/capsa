{
  "cells": [
    {
      "attachments": {},
      "cell_type": "markdown",
      "id": "BeqPJgQ-NvLQ",
      "metadata": {
        "id": "BeqPJgQ-NvLQ"
      },
      "source": [
        "<a target=\"_blank\" href=\"https://colab.research.google.com/github/themis-ai/capsa/blob/main/notebooks/4_MVE-Regression.ipynb\">\n",
        "        <img src=\"https://i.ibb.co/2P3SLwK/colab.png\"  style=\"padding-bottom:5px;\" />Run in Google Colab</a>"
      ]
    },
    {
      "cell_type": "markdown",
      "id": "b8d2cce1",
      "metadata": {
        "id": "b8d2cce1"
      },
      "source": [
        "# Eliminate Aleatoric Uncertainty with `capsa` \n",
        "###  A Python Library for Deep Learning Model Risk Management"
      ]
    },
    {
      "cell_type": "markdown",
      "id": "6314c1f1",
      "metadata": {
        "id": "6314c1f1"
      },
      "source": [
        "#### Section 1: What is Aleatoric Uncertainty?"
      ]
    },
    {
      "cell_type": "markdown",
      "id": "5a31d006",
      "metadata": {
        "id": "5a31d006"
      },
      "source": [
        "Aleatoric uncertainty, also known as statistical uncertainty, is a type of uncertainty that arises from the inherent noise in a system. For example, if you have a faulty sensor that is collecting data, that added noise because of the faulty part will be causing the aleatoric uncertainty, and will not be reducible without changing how you collect the data."
      ]
    },
    {
      "cell_type": "markdown",
      "id": "dd180d8a",
      "metadata": {
        "id": "dd180d8a"
      },
      "source": [
        "---------------------"
      ]
    },
    {
      "cell_type": "markdown",
      "id": "08021bb6",
      "metadata": {
        "id": "08021bb6"
      },
      "source": [
        "#### Section 2: ``capsa`` (a Python Library for Mitigating Uncertainty)"
      ]
    },
    {
      "cell_type": "markdown",
      "id": "c00e949b",
      "metadata": {
        "id": "c00e949b"
      },
      "source": [
        "Capsa is a convenient model wrapping tool. It wraps around predefined Keras models, adding the ability to perform risk analysis on the predictions made by those models, and therefore letting developers make more informed decisions about how to use it in their applications."
      ]
    },
    {
      "cell_type": "markdown",
      "id": "f231ffb5",
      "metadata": {
        "id": "f231ffb5"
      },
      "source": [
        "``capsa`` allows users to select a MetricWrapper that augments model with a corresponding risk-metric:\n",
        "\n",
        "- **Representation Bias**: Bias of a dataset that exists in a target feature space in the model \n",
        "    - HistogramWrapper\n",
        "- **Aleatoric Uncertainty**: Uncertainty that results from randomness or inherent noise in the data\n",
        "    - MVEWrapper\n",
        "- **Epistemic Uncertainty**: Uncertainty in a model's predictions due to model limitations or limited data\n",
        "    - DropoutWrapper\n",
        "    - EnsembleWrapper\n",
        "    - VAEWrapper\n"
      ]
    },
    {
      "cell_type": "markdown",
      "id": "09bd3bff",
      "metadata": {
        "id": "09bd3bff"
      },
      "source": [
        "-------------------"
      ]
    },
    {
      "cell_type": "markdown",
      "id": "20f13d81",
      "metadata": {
        "id": "20f13d81"
      },
      "source": [
        "#### Section 3: How to use ``capsa``"
      ]
    },
    {
      "cell_type": "markdown",
      "id": "2f399acd",
      "metadata": {
        "id": "2f399acd"
      },
      "source": [
        "First of all, let's install ``capsa`` to our work environment with ``pip install capsa``."
      ]
    },
    {
      "cell_type": "code",
      "execution_count": null,
      "id": "8NFLQX_GN45W",
      "metadata": {
        "id": "8NFLQX_GN45W"
      },
      "outputs": [],
      "source": [
        "!pip install capsa\n",
        "\n",
        "!git clone --depth 1 https://github.com/themis-ai/capsa.git\n",
        "%cd /content/capsa/notebooks/utils/"
      ]
    },
    {
      "cell_type": "markdown",
      "id": "640c8bd3-3c0a-4a82-ab6d-5ef857907d84",
      "metadata": {
        "id": "640c8bd3-3c0a-4a82-ab6d-5ef857907d84"
      },
      "source": [
        "1. You would start by importing all the necessary libraries that you'd be importing in your normal workflow."
      ]
    },
    {
      "cell_type": "code",
      "execution_count": null,
      "id": "c977f651-4bef-43a3-8899-39fe59b6a559",
      "metadata": {
        "id": "c977f651-4bef-43a3-8899-39fe59b6a559"
      },
      "outputs": [],
      "source": [
        "import numpy as np\n",
        "import tensorflow as tf\n",
        "from tensorflow import keras\n",
        "\n",
        "from capsa.utils import get_user_model, plot_loss, get_preds_names, plot_risk_2d\n",
        "\n",
        "from helper import *\n",
        "\n"
      ]
    },
    {
      "cell_type": "markdown",
      "id": "de52e72d-fa8d-43be-a41a-edc621b5b885",
      "metadata": {
        "id": "de52e72d-fa8d-43be-a41a-edc621b5b885"
      },
      "source": [
        "2. You would have your own training and test dataset ready."
      ]
    },
    {
      "cell_type": "code",
      "execution_count": null,
      "id": "19a0a72c-2220-4616-9fa6-a4425f80e2b0",
      "metadata": {
        "id": "19a0a72c-2220-4616-9fa6-a4425f80e2b0",
        "outputId": "e4c7b627-d0d5-4d4c-d6b5-44d6de83cd41"
      },
      "outputs": [
        {
          "data": {
            "image/png": "[encoded data removed]",
            "text/plain": [
              "<Figure size 640x480 with 1 Axes>"
            ]
          },
          "metadata": {},
          "output_type": "display_data"
        }
      ],
      "source": [
        "_, _, x_train, y_train, x_test, y_test = gen_data_mve_regression()"
      ]
    },
    {
      "cell_type": "markdown",
      "id": "8ae100d9-2a35-429e-86a4-c65d208cc601",
      "metadata": {
        "id": "8ae100d9-2a35-429e-86a4-c65d208cc601"
      },
      "source": [
        "4. Just like in your normal workflow, you'd have your own pre-defined model."
      ]
    },
    {
      "cell_type": "code",
      "execution_count": null,
      "id": "f2379c15-dd40-450f-a1d6-f979ea55aad7",
      "metadata": {
        "id": "f2379c15-dd40-450f-a1d6-f979ea55aad7"
      },
      "outputs": [],
      "source": [
        "user_model = get_user_model()"
      ]
    },
    {
      "cell_type": "markdown",
      "id": "be61ace6-a11f-4b86-ba4f-cdf8c569c3fc",
      "metadata": {
        "id": "be61ace6-a11f-4b86-ba4f-cdf8c569c3fc"
      },
      "source": [
        "5. You import **CAPSA**'s MVEWrapper() class. This class help wrap your model model to be risk-aware towards aleatoric uncertainty. You only need to pass a predefined model. \n",
        "\n",
        "- <span style=\"color:yellow\">**Aleatoric**</span> (Aleatoric Uncertainty): Aleatoric captures the noise in the data: mislabeled datapoints, ambigious labels, classes with low seperation, etc."
      ]
    },
    {
      "cell_type": "code",
      "execution_count": null,
      "id": "d74fb2fe-8777-44bd-99fc-0a5c0e67d39d",
      "metadata": {
        "id": "d74fb2fe-8777-44bd-99fc-0a5c0e67d39d"
      },
      "outputs": [],
      "source": [
        "from capsa import  MVEWrapper"
      ]
    },
    {
      "cell_type": "markdown",
      "id": "308a1e47-c9dd-46ec-9612-ef7c2e2b09b6",
      "metadata": {
        "id": "308a1e47-c9dd-46ec-9612-ef7c2e2b09b6"
      },
      "source": [
        "6. You wrap your model with the MVEWrapper by simply passing your model as a parameter"
      ]
    },
    {
      "cell_type": "code",
      "execution_count": null,
      "id": "d1a931fe-be84-4e91-bc35-f0fd1df61af5",
      "metadata": {
        "id": "d1a931fe-be84-4e91-bc35-f0fd1df61af5",
        "tags": []
      },
      "outputs": [],
      "source": [
        "wrapped_model = MVEWrapper(user_model)"
      ]
    },
    {
      "cell_type": "markdown",
      "id": "70c351a1-f984-4265-80cb-eb07e7abe851",
      "metadata": {
        "id": "70c351a1-f984-4265-80cb-eb07e7abe851"
      },
      "source": [
        "7. You compile your model just like how you would compile any other normal Keras model. "
      ]
    },
    {
      "cell_type": "code",
      "execution_count": null,
      "id": "3b1bba67-ba29-4a8f-8889-64cbcbc62b30",
      "metadata": {
        "id": "3b1bba67-ba29-4a8f-8889-64cbcbc62b30"
      },
      "outputs": [],
      "source": [
        "wrapped_model.compile(\n",
        "            optimizer=keras.optimizers.Adam(learning_rate=2e-3),\n",
        "            loss=keras.losses.MeanSquaredError(),\n",
        "        )"
      ]
    },
    {
      "cell_type": "markdown",
      "id": "ba1e30d8-f685-40f8-84c5-3226cfd0a908",
      "metadata": {
        "id": "ba1e30d8-f685-40f8-84c5-3226cfd0a908"
      },
      "source": [
        "8. You fit your model with your dataset."
      ]
    },
    {
      "cell_type": "code",
      "execution_count": null,
      "id": "c54ad7e4-bd5a-461d-a29b-ac4be281f6a7",
      "metadata": {
        "id": "c54ad7e4-bd5a-461d-a29b-ac4be281f6a7",
        "scrolled": true,
        "tags": []
      },
      "outputs": [],
      "source": [
        "history = wrapped_model.fit(x_train,y_train, epochs=10)"
      ]
    },
    {
      "cell_type": "markdown",
      "id": "d936bee4-5133-442c-84e5-6d0cb1e265ed",
      "metadata": {
        "id": "d936bee4-5133-442c-84e5-6d0cb1e265ed"
      },
      "source": [
        "9. Now, your model is trained. You can simply pass a batch of sample to predict both the class of the model, as well as the aleatoric uncertainty"
      ]
    },
    {
      "cell_type": "code",
      "execution_count": null,
      "id": "ea8134a0-93fb-4e03-a68f-1fdc6985deb1",
      "metadata": {
        "id": "ea8134a0-93fb-4e03-a68f-1fdc6985deb1"
      },
      "outputs": [],
      "source": [
        "output = wrapped_model(x_test)"
      ]
    },
    {
      "cell_type": "code",
      "execution_count": null,
      "id": "ee41d8c3-3667-482a-b2f6-e0c586aa3389",
      "metadata": {
        "id": "ee41d8c3-3667-482a-b2f6-e0c586aa3389",
        "outputId": "044c563f-b8f4-40ce-95b8-229320cb82f3"
      },
      "outputs": [
        {
          "data": {
            "image/png": "[encoded data removed]",
            "text/plain": [
              "<Figure size 640x480 with 2 Axes>"
            ]
          },
          "metadata": {},
          "output_type": "display_data"
        }
      ],
      "source": [
        "plot_risk_2d(x_test, y_hat,output, 'mve')"
      ]
    },
    {
      "cell_type": "markdown",
      "id": "41c9763e-363a-40a6-ba21-05f680169e51",
      "metadata": {
        "id": "41c9763e-363a-40a6-ba21-05f680169e51"
      },
      "source": [
        "Alternatively, we can pass a single sample to our model and get it's corresponding y_hat and aleatoric uncertainty values"
      ]
    },
    {
      "cell_type": "code",
      "execution_count": null,
      "id": "1ad4082a-cfa5-4ddd-8e21-56875423e118",
      "metadata": {
        "id": "1ad4082a-cfa5-4ddd-8e21-56875423e118"
      },
      "outputs": [],
      "source": [
        "single_sample = x_test[0:1,:]"
      ]
    },
    {
      "cell_type": "code",
      "execution_count": null,
      "id": "bcc54d40-8f85-4c31-b670-d837ee4b7728",
      "metadata": {
        "id": "bcc54d40-8f85-4c31-b670-d837ee4b7728"
      },
      "outputs": [],
      "source": [
        "output = wrapped_model(single_sample)"
      ]
    },
    {
      "cell_type": "markdown",
      "id": "47be0594-2b13-4f30-976c-b37676291980",
      "metadata": {
        "id": "47be0594-2b13-4f30-976c-b37676291980"
      },
      "source": [
        "### Sample Prediction"
      ]
    },
    {
      "cell_type": "code",
      "execution_count": null,
      "id": "1aec17b2-0a86-47e1-9f61-5c1dd7b96f53",
      "metadata": {
        "id": "1aec17b2-0a86-47e1-9f61-5c1dd7b96f53",
        "outputId": "14a0bc4f-e224-401f-de37-8962184416a6"
      },
      "outputs": [
        {
          "data": {
            "text/plain": [
              "<tf.Tensor: shape=(1, 2), dtype=float32, numpy=array([[1.3574278e-15, 1.0000000e+00]], dtype=float32)>"
            ]
          },
          "execution_count": 28,
          "metadata": {},
          "output_type": "execute_result"
        }
      ],
      "source": [
        "output.y_hat"
      ]
    },
    {
      "cell_type": "markdown",
      "id": "73657b93-096a-4afb-97f5-f694e054a110",
      "metadata": {
        "id": "73657b93-096a-4afb-97f5-f694e054a110"
      },
      "source": [
        "### Sample Uncertainty"
      ]
    },
    {
      "cell_type": "code",
      "execution_count": null,
      "id": "47543790-bfd8-4b25-872f-784635045849",
      "metadata": {
        "id": "47543790-bfd8-4b25-872f-784635045849",
        "outputId": "429b125a-89da-4975-c4ae-d426f0dec59a"
      },
      "outputs": [
        {
          "data": {
            "text/plain": [
              "<tf.Tensor: shape=(1, 2), dtype=float32, numpy=array([[1.5871763e-14, 3.5843089e-11]], dtype=float32)>"
            ]
          },
          "execution_count": 26,
          "metadata": {},
          "output_type": "execute_result"
        }
      ],
      "source": [
        "output.aleatoric"
      ]
    }
  ],
  "metadata": {
    "colab": {
      "provenance": []
    },
    "kernelspec": {
      "display_name": "Python 3.10.7 64-bit",
      "language": "python",
      "name": "python3"
    },
    "language_info": {
      "codemirror_mode": {
        "name": "ipython",
        "version": 3
      },
      "file_extension": ".py",
      "mimetype": "text/x-python",
      "name": "python",
      "nbconvert_exporter": "python",
      "pygments_lexer": "ipython3",
      "version": "3.10.7 (tags/v3.10.7:6cc6b13, Sep  5 2022, 14:08:36) [MSC v.1933 64 bit (AMD64)]"
    },
    "vscode": {
      "interpreter": {
        "hash": "24a5ad25cc6e3f8b381f8b2372d37e03e48bd9cce0d08f51ab57067ace6610fe"
      }
    }
  },
  "nbformat": 4,
  "nbformat_minor": 5
}
